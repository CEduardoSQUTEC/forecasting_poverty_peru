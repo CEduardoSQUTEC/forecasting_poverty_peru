{
 "cells": [
  {
   "cell_type": "code",
   "execution_count": 1,
   "metadata": {},
   "outputs": [],
   "source": [
    "import lightning as L\n",
    "\n",
    "import torch\n",
    "from torch import nn\n",
    "from torch.utils.data import DataLoader\n",
    "\n",
    "from torchvision import datasets\n",
    "from torchvision.ops import MLP\n",
    "from torchvision.transforms import v2"
   ]
  },
  {
   "cell_type": "markdown",
   "metadata": {},
   "source": [
    "# Data Processing"
   ]
  },
  {
   "cell_type": "code",
   "execution_count": 2,
   "metadata": {},
   "outputs": [],
   "source": [
    "transform = v2.Compose([\n",
    "    v2.ToImage(),\n",
    "    v2.ToDtype(torch.float32, scale=True),\n",
    "])"
   ]
  },
  {
   "cell_type": "code",
   "execution_count": 3,
   "metadata": {},
   "outputs": [
    {
     "name": "stdout",
     "output_type": "stream",
     "text": [
      "Files already downloaded and verified\n",
      "Files already downloaded and verified\n"
     ]
    }
   ],
   "source": [
    "data = {phase: datasets.CIFAR10(\n",
    "    root='dataset/',\n",
    "    transform=transform,\n",
    "    train=phase == 'train',\n",
    "    download=True,\n",
    ") for phase in ['train', 'val']}"
   ]
  },
  {
   "cell_type": "code",
   "execution_count": 4,
   "metadata": {},
   "outputs": [],
   "source": [
    "dataloader = {phase: DataLoader(\n",
    "    data[phase],\n",
    "    num_workers=4,\n",
    "    batch_size=2**2,\n",
    ") for phase in ['train', 'val']}"
   ]
  },
  {
   "cell_type": "markdown",
   "metadata": {},
   "source": [
    "# Model"
   ]
  },
  {
   "cell_type": "markdown",
   "metadata": {},
   "source": [
    "## Path Embeddings"
   ]
  },
  {
   "cell_type": "code",
   "execution_count": 6,
   "metadata": {},
   "outputs": [],
   "source": [
    "class PatchEmbeddings(nn.Module):\n",
    "    def __init__(self, img_size, patch_size, dim):\n",
    "        super().__init__()\n",
    "\n",
    "        self.num_patches = (img_size // patch_size) ** 2\n",
    "        self.embedding = nn.LazyConv2d(\n",
    "            kernel_size=patch_size,\n",
    "            stride=patch_size,\n",
    "            out_channels=dim,\n",
    "        )\n",
    "\n",
    "    def forward(self, x):\n",
    "        x = self.embedding(x)\n",
    "        x = torch.flatten(x, start_dim=2)\n",
    "        x = torch.transpose(x, 1, 2)\n",
    "        return x"
   ]
  },
  {
   "cell_type": "code",
   "execution_count": 7,
   "metadata": {},
   "outputs": [
    {
     "data": {
      "text/plain": [
       "torch.Size([4, 16, 512])"
      ]
     },
     "execution_count": 7,
     "metadata": {},
     "output_type": "execute_result"
    }
   ],
   "source": [
    "patch_embeddings = PatchEmbeddings(32, 8, 512)\n",
    "patch_embeddings(x).shape"
   ]
  },
  {
   "cell_type": "markdown",
   "metadata": {},
   "source": [
    "## Layer"
   ]
  },
  {
   "cell_type": "code",
   "execution_count": 8,
   "metadata": {},
   "outputs": [],
   "source": [
    "class ViTLayer(nn.Module):\n",
    "    def __init__(self, dim, num_heads, hidden_channels):\n",
    "        super().__init__()\n",
    "        self.norm = [nn.LayerNorm(dim) for _ in range(2)]\n",
    "        self.attn = nn.MultiheadAttention(\n",
    "            embed_dim=dim,\n",
    "            num_heads=num_heads,\n",
    "        )\n",
    "        self.mlp = MLP(\n",
    "            in_channels=dim,\n",
    "            hidden_channels=[hidden_channels, dim],\n",
    "            activation_layer=nn.GELU\n",
    "        )\n",
    "\n",
    "    def forward(self, x):\n",
    "        x = x + self.attn(*([self.norm[0](x)] * 3), need_weights=False)[0]\n",
    "        x = x + self.mlp(self.norm[1](x))\n",
    "        return x"
   ]
  },
  {
   "cell_type": "markdown",
   "metadata": {},
   "source": [
    "## Vision Transformer (ViT)"
   ]
  },
  {
   "cell_type": "code",
   "execution_count": 205,
   "metadata": {},
   "outputs": [],
   "source": [
    "class VisionTransformer(nn.Module):\n",
    "    def __init__(self, num_layers, img_size, num_classes, dim, patch_size, num_heads, hidden_channels):\n",
    "        super().__init__()\n",
    "        self.patch_embeddings = PatchEmbeddings(\n",
    "            img_size=img_size,\n",
    "            patch_size=patch_size,\n",
    "            dim=dim\n",
    "        )\n",
    "        self.cls_token = nn.Parameter(\n",
    "            torch.zeros(1, 1, dim)\n",
    "        )\n",
    "        self.pos_embeddings = nn.Parameter(\n",
    "            torch.zeros(1, 1 + self.patch_embeddings.num_patches, dim),\n",
    "        )\n",
    "        self.layers = nn.ModuleList([\n",
    "            ViTLayer(\n",
    "                dim=dim,\n",
    "                num_heads=num_heads,\n",
    "                hidden_channels=hidden_channels\n",
    "            ) for _ in range(num_layers)\n",
    "        ])\n",
    "        self.head = nn.Linear(dim, num_classes)\n",
    "\n",
    "    def forward(self, x):\n",
    "        x = self.patch_embeddings(x)\n",
    "\n",
    "        cls_token = self.cls_token.expand(x.shape[0], -1, -1)\n",
    "        x = torch.cat((cls_token, x), dim=1)\n",
    "        x = x + self.pos_embeddings\n",
    "\n",
    "        for layer in self.layers:\n",
    "            x = layer(x)\n",
    "\n",
    "        x = self.head(x[:, 0])\n",
    "        return x"
   ]
  }
 ],
 "metadata": {
  "kernelspec": {
   "display_name": "Python 3",
   "language": "python",
   "name": "python3"
  },
  "language_info": {
   "codemirror_mode": {
    "name": "ipython",
    "version": 3
   },
   "file_extension": ".py",
   "mimetype": "text/x-python",
   "name": "python",
   "nbconvert_exporter": "python",
   "pygments_lexer": "ipython3",
   "version": "3.11.10"
  }
 },
 "nbformat": 4,
 "nbformat_minor": 2
}
