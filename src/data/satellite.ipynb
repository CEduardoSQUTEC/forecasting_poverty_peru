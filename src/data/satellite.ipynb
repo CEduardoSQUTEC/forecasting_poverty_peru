{
 "cells": [
  {
   "cell_type": "code",
   "execution_count": null,
   "metadata": {},
   "outputs": [],
   "source": [
    "import logging\n",
    "import os\n",
    "\n",
    "from concurrent.futures import ThreadPoolExecutor"
   ]
  },
  {
   "cell_type": "code",
   "execution_count": null,
   "metadata": {},
   "outputs": [],
   "source": [
    "import ee\n",
    "import pandas as pd\n",
    "\n",
    "from pathlib import Path\n",
    "from tqdm import tqdm"
   ]
  },
  {
   "cell_type": "code",
   "execution_count": null,
   "metadata": {},
   "outputs": [],
   "source": [
    "ee.Authenticate()"
   ]
  },
  {
   "cell_type": "code",
   "execution_count": null,
   "metadata": {},
   "outputs": [],
   "source": [
    "ee.Initialize(project='forecasting-poverty')"
   ]
  },
  {
   "cell_type": "code",
   "execution_count": null,
   "metadata": {},
   "outputs": [],
   "source": [
    "dataset_path = Path.cwd().parent / 'datasets'"
   ]
  },
  {
   "cell_type": "code",
   "execution_count": null,
   "metadata": {},
   "outputs": [],
   "source": [
    "clean_path = dataset_path / 'clean'"
   ]
  },
  {
   "cell_type": "markdown",
   "metadata": {},
   "source": [
    "# Load Conglomerate"
   ]
  },
  {
   "cell_type": "code",
   "execution_count": null,
   "metadata": {},
   "outputs": [],
   "source": [
    "df = pd.read_pickle(clean_path / 'conglomerate.pkl')"
   ]
  },
  {
   "cell_type": "code",
   "execution_count": null,
   "metadata": {},
   "outputs": [],
   "source": [
    "df.info()"
   ]
  },
  {
   "cell_type": "markdown",
   "metadata": {},
   "source": [
    "#  Download Conglomerate Images"
   ]
  },
  {
   "cell_type": "code",
   "execution_count": null,
   "metadata": {},
   "outputs": [],
   "source": [
    "logging.basicConfig(\n",
    "    filename='error.log',\n",
    "    level=logging.ERROR,\n",
    "    format='%(asctime)s %(levelname)s: %(message)s'\n",
    ")"
   ]
  },
  {
   "cell_type": "code",
   "execution_count": null,
   "metadata": {},
   "outputs": [],
   "source": [
    "def download_conglomerate_image(conglome):\n",
    "    try:\n",
    "        point = ee.Geometry.Point(\n",
    "            conglome.longitude, conglome.latitude\n",
    "        )\n",
    "        region = point.buffer(1120).bounds()\n",
    "\n",
    "        start_date = ee.Date.fromYMD(conglome.year, conglome.month, 1)\n",
    "        end_date = start_date.advance(1, 'month')\n",
    "\n",
    "        image = (\n",
    "            ee.ImageCollection('COPERNICUS/S2_SR_HARMONIZED')\n",
    "            .filterBounds(point)\n",
    "            .filterDate(start_date, end_date)\n",
    "            .sort('CLOUDY_PIXEL_PERCENTAGE')\n",
    "            .filter(ee.Filter.lt('CLOUDY_PIXEL_PERCENTAGE', 10))\n",
    "            .first()\n",
    "            .select(['B4', 'B3', 'B2'])\n",
    "            .clip(region)\n",
    "        )\n",
    "\n",
    "        params = {\n",
    "            'region': region,\n",
    "            'scale': 10,\n",
    "            'crs': 'EPSG:4326',\n",
    "            'format': 'GEO_TIFF'\n",
    "        }\n",
    "\n",
    "        download_url = image.getDownloadURL(params)\n",
    "        output_filename = clean_path / 'rgb' / f'{conglome.Index:04}.tif'\n",
    "\n",
    "        os.system(f'wget -q -O {output_filename} \"{download_url}\"')\n",
    "    except Exception as e:\n",
    "        logging.exception(f'Error downloading image {conglome.Index:04}.')"
   ]
  },
  {
   "cell_type": "code",
   "execution_count": null,
   "metadata": {},
   "outputs": [],
   "source": [
    "with ThreadPoolExecutor() as executor:\n",
    "    list(tqdm(\n",
    "        executor.map(download_conglomerate_image, df.itertuples()),\n",
    "        total=len(df), \n",
    "        desc='Downloading Images'\n",
    "    ))"
   ]
  }
 ],
 "metadata": {
  "kernelspec": {
   "display_name": "Python 3",
   "language": "python",
   "name": "python3"
  },
  "language_info": {
   "codemirror_mode": {
    "name": "ipython",
    "version": 3
   },
   "file_extension": ".py",
   "mimetype": "text/x-python",
   "name": "python",
   "nbconvert_exporter": "python",
   "pygments_lexer": "ipython3",
   "version": "3.10.16"
  }
 },
 "nbformat": 4,
 "nbformat_minor": 2
}
