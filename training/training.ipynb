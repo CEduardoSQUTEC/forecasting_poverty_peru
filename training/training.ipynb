{
 "cells": [
  {
   "cell_type": "code",
   "execution_count": 1,
   "metadata": {},
   "outputs": [],
   "source": [
    "import os\n",
    "from pathlib import Path"
   ]
  },
  {
   "cell_type": "code",
   "execution_count": 3,
   "metadata": {},
   "outputs": [],
   "source": [
    "os.chdir('/teamspace/studios/this_studio/poverty_forecasting_peru')"
   ]
  },
  {
   "cell_type": "code",
   "execution_count": 4,
   "metadata": {},
   "outputs": [],
   "source": [
    "import torch"
   ]
  },
  {
   "cell_type": "code",
   "execution_count": 8,
   "metadata": {},
   "outputs": [],
   "source": [
    "from modeling.satmae_pp.models_vit_group_channels import vit_large_patch16"
   ]
  },
  {
   "cell_type": "code",
   "execution_count": 9,
   "metadata": {},
   "outputs": [],
   "source": [
    "checkpoints_path = Path.cwd() / 'checkpoints'"
   ]
  },
  {
   "cell_type": "markdown",
   "metadata": {},
   "source": [
    "# Loading Checkpoint"
   ]
  },
  {
   "cell_type": "code",
   "execution_count": 10,
   "metadata": {},
   "outputs": [],
   "source": [
    "checkpoint = torch.load(checkpoints_path / 'satmae_pp/checkpoint_ViT-L_finetune_fmow_sentinel.pth')"
   ]
  },
  {
   "cell_type": "markdown",
   "metadata": {},
   "source": [
    "# Model Instantiation"
   ]
  },
  {
   "cell_type": "code",
   "execution_count": 11,
   "metadata": {},
   "outputs": [],
   "source": [
    "model = vit_large_patch16(\n",
    "    num_classes=62,\n",
    "    img_size=(96, 96),\n",
    "    patch_size=(8, 8),\n",
    "    in_chans=10,\n",
    ")"
   ]
  },
  {
   "cell_type": "code",
   "execution_count": 12,
   "metadata": {},
   "outputs": [
    {
     "data": {
      "text/plain": [
       "<All keys matched successfully>"
      ]
     },
     "execution_count": 12,
     "metadata": {},
     "output_type": "execute_result"
    }
   ],
   "source": [
    "checkpoint['model'] = {k.replace('fc_norm', 'norm'): v for k, v in checkpoint['model'].items()}\n",
    "model.load_state_dict(checkpoint['model'])"
   ]
  },
  {
   "cell_type": "code",
   "execution_count": 17,
   "metadata": {},
   "outputs": [
    {
     "data": {
      "text/plain": [
       "dict_keys(['model', 'optimizer', 'epoch', 'scaler', 'args'])"
      ]
     },
     "execution_count": 17,
     "metadata": {},
     "output_type": "execute_result"
    }
   ],
   "source": [
    "checkpoint.keys()"
   ]
  },
  {
   "cell_type": "code",
   "execution_count": 24,
   "metadata": {},
   "outputs": [
    {
     "name": "stdout",
     "output_type": "stream",
     "text": [
      "model: <class 'dict'>\n",
      "optimizer: <class 'dict'>\n",
      "epoch: <class 'int'>\n",
      "scaler: <class 'dict'>\n",
      "args: <class 'argparse.Namespace'>\n"
     ]
    }
   ],
   "source": [
    "for key, values in checkpoint.items():\n",
    "    print(f'{key}: {type(values)}')"
   ]
  },
  {
   "cell_type": "code",
   "execution_count": 29,
   "metadata": {},
   "outputs": [
    {
     "data": {
      "text/plain": [
       "Namespace(batch_size=8, epochs=30, accum_iter=16, model_type='group_c', model='vit_large_patch16', input_size=96, patch_size=8, drop_path=0.2, clip_grad=None, weight_decay=0.05, lr=0.0008, blr=0.0002, layer_decay=0.75, min_lr=1e-06, warmup_epochs=5, color_jitter=None, aa='rand-m9-mstd0.5-inc1', smoothing=0.1, reprob=0.25, remode='pixel', recount=1, resplit=False, mixup=0.8, cutmix=1.0, cutmix_minmax=None, mixup_prob=1.0, mixup_switch_prob=0.5, mixup_mode='batch', finetune='./output_dir/checkpoint-50.pth', global_pool=True, train_path='/nfs/users/ext_mustansar.fiaz/change_detection/ChangeFormer/Dataset/fmow-sentinel/train.csv', test_path='/nfs/users/ext_mustansar.fiaz/change_detection/ChangeFormer/Dataset/fmow-sentinel/val.csv', dataset_type='sentinel', masked_bands=None, dropped_bands=[0, 9, 10], grouped_bands=[[0, 1, 2, 6], [3, 4, 5, 7], [8, 9]], nb_classes=62, output_dir='./finetune_logs', log_dir='./finetune_logs', device='cuda', seed=0, resume=None, save_every=1, wandb=None, start_epoch=0, eval=False, dist_eval=False, num_workers=16, pin_mem=True, world_size=8, local_rank=0, dist_on_itp=False, dist_url='env://', rank=0, gpu=0, distributed=True, dist_backend='nccl')"
      ]
     },
     "execution_count": 29,
     "metadata": {},
     "output_type": "execute_result"
    }
   ],
   "source": [
    "checkpoint['args']"
   ]
  },
  {
   "cell_type": "code",
   "execution_count": 15,
   "metadata": {},
   "outputs": [
    {
     "data": {
      "text/plain": [
       "torch.Size([4, 62])"
      ]
     },
     "execution_count": 15,
     "metadata": {},
     "output_type": "execute_result"
    }
   ],
   "source": [
    "model(torch.rand(4, 10, 96, 96)).shape"
   ]
  }
 ],
 "metadata": {
  "kernelspec": {
   "display_name": "Python 3",
   "language": "python",
   "name": "python3"
  },
  "language_info": {
   "codemirror_mode": {
    "name": "ipython",
    "version": 3
   },
   "file_extension": ".py",
   "mimetype": "text/x-python",
   "name": "python",
   "nbconvert_exporter": "python",
   "pygments_lexer": "ipython3",
   "version": "3.10.13"
  }
 },
 "nbformat": 4,
 "nbformat_minor": 2
}
